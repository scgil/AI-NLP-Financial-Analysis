{
 "cells": [
  {
   "cell_type": "markdown",
   "id": "e5ff5bc8-1820-4838-984b-ce9b6b50b364",
   "metadata": {},
   "source": [
    "# Evaluation Summary"
   ]
  },
  {
   "cell_type": "markdown",
   "id": "64fccc69-1660-4989-9550-6a5c5e2c14be",
   "metadata": {},
   "source": [
    "# 1. Retrieve Zero-shot, Few-shot and Fine-Tuned evaluation summaries"
   ]
  },
  {
   "cell_type": "markdown",
   "id": "0d85fcdd-1571-4509-85ee-5c63dc743396",
   "metadata": {},
   "source": [
    "Perform the following steps for each evaluation summary: specify path, file name and file type. Read the CSV file into a DataFrame and display it."
   ]
  },
  {
   "cell_type": "code",
   "execution_count": 1,
   "id": "58962e7d-069a-48b4-a62c-2ee58fba4c69",
   "metadata": {},
   "outputs": [],
   "source": [
    "import pandas as pd\n",
    "\n",
    "pd.set_option('display.max_colwidth', None)"
   ]
  },
  {
   "cell_type": "markdown",
   "id": "2d87daed-dcda-4b1a-941c-563561b68911",
   "metadata": {},
   "source": [
    "## Zero-shot"
   ]
  },
  {
   "cell_type": "code",
   "execution_count": 2,
   "id": "15906e1e-59fb-4cbe-95e2-da5a423bf4d5",
   "metadata": {},
   "outputs": [
    {
     "data": {
      "text/html": [
       "<div>\n",
       "<style scoped>\n",
       "    .dataframe tbody tr th:only-of-type {\n",
       "        vertical-align: middle;\n",
       "    }\n",
       "\n",
       "    .dataframe tbody tr th {\n",
       "        vertical-align: top;\n",
       "    }\n",
       "\n",
       "    .dataframe thead th {\n",
       "        text-align: right;\n",
       "    }\n",
       "</style>\n",
       "<table border=\"1\" class=\"dataframe\">\n",
       "  <thead>\n",
       "    <tr style=\"text-align: right;\">\n",
       "      <th></th>\n",
       "      <th>current_ratio</th>\n",
       "      <th>quick_ratio</th>\n",
       "      <th>cash_ratio</th>\n",
       "    </tr>\n",
       "  </thead>\n",
       "  <tbody>\n",
       "    <tr>\n",
       "      <th>zero_shot</th>\n",
       "      <td>0.83024</td>\n",
       "      <td>0.842728</td>\n",
       "      <td>0.831505</td>\n",
       "    </tr>\n",
       "  </tbody>\n",
       "</table>\n",
       "</div>"
      ],
      "text/plain": [
       "           current_ratio  quick_ratio  cash_ratio\n",
       "zero_shot        0.83024     0.842728    0.831505"
      ]
     },
     "execution_count": 2,
     "metadata": {},
     "output_type": "execute_result"
    }
   ],
   "source": [
    "path = './Zero_Shot_Evaluation/'\n",
    "file = 'zero_shot_similarity_summary'\n",
    "type_file = '.csv'\n",
    "\n",
    "zero_shot = pd.read_csv(path + file + type_file, index_col = 0)\n",
    "zero_shot"
   ]
  },
  {
   "cell_type": "markdown",
   "id": "76025a9d-cc35-4555-82b5-f66e9c9ba675",
   "metadata": {},
   "source": [
    "## Few-shot"
   ]
  },
  {
   "cell_type": "code",
   "execution_count": 3,
   "id": "cdd0a41d-11c7-4809-a4d0-5ddecc16ce6e",
   "metadata": {},
   "outputs": [
    {
     "data": {
      "text/html": [
       "<div>\n",
       "<style scoped>\n",
       "    .dataframe tbody tr th:only-of-type {\n",
       "        vertical-align: middle;\n",
       "    }\n",
       "\n",
       "    .dataframe tbody tr th {\n",
       "        vertical-align: top;\n",
       "    }\n",
       "\n",
       "    .dataframe thead th {\n",
       "        text-align: right;\n",
       "    }\n",
       "</style>\n",
       "<table border=\"1\" class=\"dataframe\">\n",
       "  <thead>\n",
       "    <tr style=\"text-align: right;\">\n",
       "      <th></th>\n",
       "      <th>current_ratio</th>\n",
       "      <th>quick_ratio</th>\n",
       "      <th>cash_ratio</th>\n",
       "    </tr>\n",
       "  </thead>\n",
       "  <tbody>\n",
       "    <tr>\n",
       "      <th>few_shot</th>\n",
       "      <td>0.897725</td>\n",
       "      <td>0.928372</td>\n",
       "      <td>0.909384</td>\n",
       "    </tr>\n",
       "  </tbody>\n",
       "</table>\n",
       "</div>"
      ],
      "text/plain": [
       "          current_ratio  quick_ratio  cash_ratio\n",
       "few_shot       0.897725     0.928372    0.909384"
      ]
     },
     "execution_count": 3,
     "metadata": {},
     "output_type": "execute_result"
    }
   ],
   "source": [
    "path = './Few_Shot_Evaluation/'\n",
    "file = 'few_shot_similarity_summary'\n",
    "type_file = '.csv'\n",
    "\n",
    "few_shot = pd.read_csv(path + file + type_file, index_col = 0)\n",
    "few_shot"
   ]
  },
  {
   "cell_type": "markdown",
   "id": "eda434e2-65ad-4210-97b9-9ca98b2a19dc",
   "metadata": {},
   "source": [
    "## Fine-Tuned"
   ]
  },
  {
   "cell_type": "code",
   "execution_count": 4,
   "id": "26f23866-50d4-47a7-aad7-a0c6e3c27f6f",
   "metadata": {},
   "outputs": [
    {
     "data": {
      "text/html": [
       "<div>\n",
       "<style scoped>\n",
       "    .dataframe tbody tr th:only-of-type {\n",
       "        vertical-align: middle;\n",
       "    }\n",
       "\n",
       "    .dataframe tbody tr th {\n",
       "        vertical-align: top;\n",
       "    }\n",
       "\n",
       "    .dataframe thead th {\n",
       "        text-align: right;\n",
       "    }\n",
       "</style>\n",
       "<table border=\"1\" class=\"dataframe\">\n",
       "  <thead>\n",
       "    <tr style=\"text-align: right;\">\n",
       "      <th></th>\n",
       "      <th>current_ratio</th>\n",
       "      <th>quick_ratio</th>\n",
       "      <th>cash_ratio</th>\n",
       "    </tr>\n",
       "  </thead>\n",
       "  <tbody>\n",
       "    <tr>\n",
       "      <th>fine_tuned</th>\n",
       "      <td>0.896326</td>\n",
       "      <td>0.898498</td>\n",
       "      <td>0.893478</td>\n",
       "    </tr>\n",
       "  </tbody>\n",
       "</table>\n",
       "</div>"
      ],
      "text/plain": [
       "            current_ratio  quick_ratio  cash_ratio\n",
       "fine_tuned       0.896326     0.898498    0.893478"
      ]
     },
     "execution_count": 4,
     "metadata": {},
     "output_type": "execute_result"
    }
   ],
   "source": [
    "path = './Fine_Tuned_Evaluation/'\n",
    "file = 'fine_tuned_similarity_summary'\n",
    "type_file = '.csv'\n",
    "\n",
    "fine_tuned = pd.read_csv(path + file + type_file, index_col = 0)\n",
    "fine_tuned"
   ]
  },
  {
   "cell_type": "markdown",
   "id": "ad0ca5c3-2fda-4e2d-8993-98cfa67742e2",
   "metadata": {},
   "source": [
    "# 2. Concat evaluation summaries"
   ]
  },
  {
   "cell_type": "markdown",
   "id": "da4ebf02-d5bc-42d2-8c48-ae4bf9c1aeb9",
   "metadata": {},
   "source": [
    "Concat DataFrames in a single one."
   ]
  },
  {
   "cell_type": "code",
   "execution_count": 5,
   "id": "d099a071-0a74-4321-9a17-fa6835beaa03",
   "metadata": {},
   "outputs": [],
   "source": [
    "summary = pd.concat([zero_shot, few_shot, fine_tuned])"
   ]
  },
  {
   "cell_type": "markdown",
   "id": "154212f7-89f7-45dc-8cbe-89d9a0d32ca4",
   "metadata": {},
   "source": [
    "# 3. Evaluation summary"
   ]
  },
  {
   "cell_type": "markdown",
   "id": "2af493da-b9a2-4908-904e-3b2203eec845",
   "metadata": {},
   "source": [
    "Display resulting Dataframe and save it into a CSV file."
   ]
  },
  {
   "cell_type": "code",
   "execution_count": 6,
   "id": "b380701f-bdf5-495e-8e94-4fb5ee9846c9",
   "metadata": {},
   "outputs": [
    {
     "data": {
      "text/html": [
       "<div>\n",
       "<style scoped>\n",
       "    .dataframe tbody tr th:only-of-type {\n",
       "        vertical-align: middle;\n",
       "    }\n",
       "\n",
       "    .dataframe tbody tr th {\n",
       "        vertical-align: top;\n",
       "    }\n",
       "\n",
       "    .dataframe thead th {\n",
       "        text-align: right;\n",
       "    }\n",
       "</style>\n",
       "<table border=\"1\" class=\"dataframe\">\n",
       "  <thead>\n",
       "    <tr style=\"text-align: right;\">\n",
       "      <th></th>\n",
       "      <th>current_ratio</th>\n",
       "      <th>quick_ratio</th>\n",
       "      <th>cash_ratio</th>\n",
       "    </tr>\n",
       "  </thead>\n",
       "  <tbody>\n",
       "    <tr>\n",
       "      <th>zero_shot</th>\n",
       "      <td>0.830240</td>\n",
       "      <td>0.842728</td>\n",
       "      <td>0.831505</td>\n",
       "    </tr>\n",
       "    <tr>\n",
       "      <th>few_shot</th>\n",
       "      <td>0.897725</td>\n",
       "      <td>0.928372</td>\n",
       "      <td>0.909384</td>\n",
       "    </tr>\n",
       "    <tr>\n",
       "      <th>fine_tuned</th>\n",
       "      <td>0.896326</td>\n",
       "      <td>0.898498</td>\n",
       "      <td>0.893478</td>\n",
       "    </tr>\n",
       "  </tbody>\n",
       "</table>\n",
       "</div>"
      ],
      "text/plain": [
       "            current_ratio  quick_ratio  cash_ratio\n",
       "zero_shot        0.830240     0.842728    0.831505\n",
       "few_shot         0.897725     0.928372    0.909384\n",
       "fine_tuned       0.896326     0.898498    0.893478"
      ]
     },
     "execution_count": 6,
     "metadata": {},
     "output_type": "execute_result"
    }
   ],
   "source": [
    "summary"
   ]
  },
  {
   "cell_type": "code",
   "execution_count": 7,
   "id": "130a7f52-5b01-47e0-8b3c-a6fab918d9d0",
   "metadata": {},
   "outputs": [],
   "source": [
    "path = './Evaluation_Summary/'\n",
    "file = 'evaluation_summary_st'\n",
    "type_file = '.csv'\n",
    "\n",
    "summary.to_csv(path+file+type_file, index=True)"
   ]
  }
 ],
 "metadata": {
  "kernelspec": {
   "display_name": "Python 3 (ipykernel)",
   "language": "python",
   "name": "python3"
  },
  "language_info": {
   "codemirror_mode": {
    "name": "ipython",
    "version": 3
   },
   "file_extension": ".py",
   "mimetype": "text/x-python",
   "name": "python",
   "nbconvert_exporter": "python",
   "pygments_lexer": "ipython3",
   "version": "3.11.7"
  }
 },
 "nbformat": 4,
 "nbformat_minor": 5
}
