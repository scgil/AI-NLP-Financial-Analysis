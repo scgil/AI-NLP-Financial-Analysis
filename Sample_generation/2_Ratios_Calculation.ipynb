{
 "cells": [
  {
   "cell_type": "markdown",
   "id": "8ea74e66",
   "metadata": {},
   "source": [
    "# Ratios Calculation"
   ]
  },
  {
   "cell_type": "markdown",
   "id": "2466ca31",
   "metadata": {},
   "source": [
    "# 1. Retrieve Financial Statements from files"
   ]
  },
  {
   "cell_type": "markdown",
   "id": "85738fee",
   "metadata": {},
   "source": [
    "Specify the path and name of the CSV files."
   ]
  },
  {
   "cell_type": "code",
   "execution_count": 405,
   "id": "e86e5933",
   "metadata": {},
   "outputs": [],
   "source": [
    "import pandas as pd\n",
    "\n",
    "pd.set_option('display.float_format', '{:.2f}'.format)\n",
    "\n",
    "path = './Financial_Statements/'\n",
    "company_name = 'WaltDisney'\n",
    "statement_name_1 = 'income_statement_'\n",
    "statement_name_2 = 'balance_sheet_'\n",
    "type_file = '.csv'"
   ]
  },
  {
   "cell_type": "markdown",
   "id": "5384a37a",
   "metadata": {},
   "source": [
    "## 1.1 Retrieve Income Statement from file"
   ]
  },
  {
   "cell_type": "markdown",
   "id": "0f377568",
   "metadata": {},
   "source": [
    "Read the Income Statement file and display the resulting dataframe."
   ]
  },
  {
   "cell_type": "code",
   "execution_count": 406,
   "id": "4f7484e5",
   "metadata": {},
   "outputs": [
    {
     "data": {
      "text/html": [
       "<div>\n",
       "<style scoped>\n",
       "    .dataframe tbody tr th:only-of-type {\n",
       "        vertical-align: middle;\n",
       "    }\n",
       "\n",
       "    .dataframe tbody tr th {\n",
       "        vertical-align: top;\n",
       "    }\n",
       "\n",
       "    .dataframe thead th {\n",
       "        text-align: right;\n",
       "    }\n",
       "</style>\n",
       "<table border=\"1\" class=\"dataframe\">\n",
       "  <thead>\n",
       "    <tr style=\"text-align: right;\">\n",
       "      <th></th>\n",
       "      <th>2020-10-04-2021-10-02</th>\n",
       "      <th>2019-09-29-2020-10-03</th>\n",
       "    </tr>\n",
       "  </thead>\n",
       "  <tbody>\n",
       "    <tr>\n",
       "      <th>Revenues</th>\n",
       "      <td>67418000000.00</td>\n",
       "      <td>65388000000.00</td>\n",
       "    </tr>\n",
       "    <tr>\n",
       "      <th>CostOfGoodsAndServicesSold</th>\n",
       "      <td>NaN</td>\n",
       "      <td>NaN</td>\n",
       "    </tr>\n",
       "    <tr>\n",
       "      <th>SellingGeneralAndAdministrativeExpense</th>\n",
       "      <td>13517000000.00</td>\n",
       "      <td>12369000000.00</td>\n",
       "    </tr>\n",
       "    <tr>\n",
       "      <th>DepreciationDepletionAndAmortization</th>\n",
       "      <td>5111000000.00</td>\n",
       "      <td>5345000000.00</td>\n",
       "    </tr>\n",
       "    <tr>\n",
       "      <th>CostsAndExpenses</th>\n",
       "      <td>63759000000.00</td>\n",
       "      <td>61594000000.00</td>\n",
       "    </tr>\n",
       "    <tr>\n",
       "      <th>RestructuringSettlementAndImpairmentProvisions</th>\n",
       "      <td>654000000.00</td>\n",
       "      <td>5735000000.00</td>\n",
       "    </tr>\n",
       "    <tr>\n",
       "      <th>NonoperatingIncomeExpense</th>\n",
       "      <td>201000000.00</td>\n",
       "      <td>1038000000.00</td>\n",
       "    </tr>\n",
       "    <tr>\n",
       "      <th>InterestIncomeExpenseNonoperatingNet</th>\n",
       "      <td>-1406000000.00</td>\n",
       "      <td>-1491000000.00</td>\n",
       "    </tr>\n",
       "    <tr>\n",
       "      <th>IncomeLossFromEquityMethodInvestments</th>\n",
       "      <td>761000000.00</td>\n",
       "      <td>651000000.00</td>\n",
       "    </tr>\n",
       "    <tr>\n",
       "      <th>IncomeLossFromContinuingOperationsBeforeIncomeTaxesExtraordinaryItemsNoncontrollingInterest</th>\n",
       "      <td>2561000000.00</td>\n",
       "      <td>-1743000000.00</td>\n",
       "    </tr>\n",
       "    <tr>\n",
       "      <th>IncomeTaxExpenseBenefit</th>\n",
       "      <td>25000000.00</td>\n",
       "      <td>699000000.00</td>\n",
       "    </tr>\n",
       "    <tr>\n",
       "      <th>IncomeLossFromContinuingOperationsIncludingPortionAttributableToNoncontrollingInterest</th>\n",
       "      <td>2536000000.00</td>\n",
       "      <td>-2442000000.00</td>\n",
       "    </tr>\n",
       "    <tr>\n",
       "      <th>IncomeLossFromDiscontinuedOperationsNetOfTax</th>\n",
       "      <td>-29000000.00</td>\n",
       "      <td>-32000000.00</td>\n",
       "    </tr>\n",
       "    <tr>\n",
       "      <th>ProfitLoss</th>\n",
       "      <td>2507000000.00</td>\n",
       "      <td>-2474000000.00</td>\n",
       "    </tr>\n",
       "    <tr>\n",
       "      <th>IncomeLossFromContinuingOperationsAttributableToNoncontrollingEntity</th>\n",
       "      <td>512000000.00</td>\n",
       "      <td>390000000.00</td>\n",
       "    </tr>\n",
       "    <tr>\n",
       "      <th>NetIncomeLoss</th>\n",
       "      <td>1995000000.00</td>\n",
       "      <td>-2864000000.00</td>\n",
       "    </tr>\n",
       "    <tr>\n",
       "      <th>IncomeLossFromContinuingOperationsPerDilutedShare</th>\n",
       "      <td>1.11</td>\n",
       "      <td>-1.57</td>\n",
       "    </tr>\n",
       "    <tr>\n",
       "      <th>DiscontinuedOperationIncomeLossFromDiscontinuedOperationNetOfTaxPerDilutedShare</th>\n",
       "      <td>-0.02</td>\n",
       "      <td>-0.02</td>\n",
       "    </tr>\n",
       "    <tr>\n",
       "      <th>EarningsPerShareDiluted</th>\n",
       "      <td>1.09</td>\n",
       "      <td>-1.58</td>\n",
       "    </tr>\n",
       "    <tr>\n",
       "      <th>IncomeLossFromContinuingOperationsPerBasicShare</th>\n",
       "      <td>1.11</td>\n",
       "      <td>-1.57</td>\n",
       "    </tr>\n",
       "    <tr>\n",
       "      <th>DiscontinuedOperationIncomeLossFromDiscontinuedOperationNetOfTaxPerBasicShare</th>\n",
       "      <td>-0.02</td>\n",
       "      <td>-0.02</td>\n",
       "    </tr>\n",
       "    <tr>\n",
       "      <th>EarningsPerShareBasic</th>\n",
       "      <td>1.10</td>\n",
       "      <td>-1.58</td>\n",
       "    </tr>\n",
       "    <tr>\n",
       "      <th>WeightedAverageNumberOfDilutedSharesOutstanding</th>\n",
       "      <td>1828000000.00</td>\n",
       "      <td>1808000000.00</td>\n",
       "    </tr>\n",
       "    <tr>\n",
       "      <th>WeightedAverageNumberOfSharesOutstandingBasic</th>\n",
       "      <td>1816000000.00</td>\n",
       "      <td>1808000000.00</td>\n",
       "    </tr>\n",
       "  </tbody>\n",
       "</table>\n",
       "</div>"
      ],
      "text/plain": [
       "                                                    2020-10-04-2021-10-02  \\\n",
       "Revenues                                                   67418000000.00   \n",
       "CostOfGoodsAndServicesSold                                            NaN   \n",
       "SellingGeneralAndAdministrativeExpense                     13517000000.00   \n",
       "DepreciationDepletionAndAmortization                        5111000000.00   \n",
       "CostsAndExpenses                                           63759000000.00   \n",
       "RestructuringSettlementAndImpairmentProvisions               654000000.00   \n",
       "NonoperatingIncomeExpense                                    201000000.00   \n",
       "InterestIncomeExpenseNonoperatingNet                       -1406000000.00   \n",
       "IncomeLossFromEquityMethodInvestments                        761000000.00   \n",
       "IncomeLossFromContinuingOperationsBeforeIncomeT...          2561000000.00   \n",
       "IncomeTaxExpenseBenefit                                       25000000.00   \n",
       "IncomeLossFromContinuingOperationsIncludingPort...          2536000000.00   \n",
       "IncomeLossFromDiscontinuedOperationsNetOfTax                 -29000000.00   \n",
       "ProfitLoss                                                  2507000000.00   \n",
       "IncomeLossFromContinuingOperationsAttributableT...           512000000.00   \n",
       "NetIncomeLoss                                               1995000000.00   \n",
       "IncomeLossFromContinuingOperationsPerDilutedShare                    1.11   \n",
       "DiscontinuedOperationIncomeLossFromDiscontinued...                  -0.02   \n",
       "EarningsPerShareDiluted                                              1.09   \n",
       "IncomeLossFromContinuingOperationsPerBasicShare                      1.11   \n",
       "DiscontinuedOperationIncomeLossFromDiscontinued...                  -0.02   \n",
       "EarningsPerShareBasic                                                1.10   \n",
       "WeightedAverageNumberOfDilutedSharesOutstanding             1828000000.00   \n",
       "WeightedAverageNumberOfSharesOutstandingBasic               1816000000.00   \n",
       "\n",
       "                                                    2019-09-29-2020-10-03  \n",
       "Revenues                                                   65388000000.00  \n",
       "CostOfGoodsAndServicesSold                                            NaN  \n",
       "SellingGeneralAndAdministrativeExpense                     12369000000.00  \n",
       "DepreciationDepletionAndAmortization                        5345000000.00  \n",
       "CostsAndExpenses                                           61594000000.00  \n",
       "RestructuringSettlementAndImpairmentProvisions              5735000000.00  \n",
       "NonoperatingIncomeExpense                                   1038000000.00  \n",
       "InterestIncomeExpenseNonoperatingNet                       -1491000000.00  \n",
       "IncomeLossFromEquityMethodInvestments                        651000000.00  \n",
       "IncomeLossFromContinuingOperationsBeforeIncomeT...         -1743000000.00  \n",
       "IncomeTaxExpenseBenefit                                      699000000.00  \n",
       "IncomeLossFromContinuingOperationsIncludingPort...         -2442000000.00  \n",
       "IncomeLossFromDiscontinuedOperationsNetOfTax                 -32000000.00  \n",
       "ProfitLoss                                                 -2474000000.00  \n",
       "IncomeLossFromContinuingOperationsAttributableT...           390000000.00  \n",
       "NetIncomeLoss                                              -2864000000.00  \n",
       "IncomeLossFromContinuingOperationsPerDilutedShare                   -1.57  \n",
       "DiscontinuedOperationIncomeLossFromDiscontinued...                  -0.02  \n",
       "EarningsPerShareDiluted                                             -1.58  \n",
       "IncomeLossFromContinuingOperationsPerBasicShare                     -1.57  \n",
       "DiscontinuedOperationIncomeLossFromDiscontinued...                  -0.02  \n",
       "EarningsPerShareBasic                                               -1.58  \n",
       "WeightedAverageNumberOfDilutedSharesOutstanding             1808000000.00  \n",
       "WeightedAverageNumberOfSharesOutstandingBasic               1808000000.00  "
      ]
     },
     "execution_count": 406,
     "metadata": {},
     "output_type": "execute_result"
    }
   ],
   "source": [
    "income_statement = pd.read_csv(path+statement_name_1+company_name+type_file, index_col = 0)\n",
    "income_statement"
   ]
  },
  {
   "cell_type": "markdown",
   "id": "3d53a3a5",
   "metadata": {},
   "source": [
    "## 1.2 Retrieve Balance Sheet from file"
   ]
  },
  {
   "cell_type": "markdown",
   "id": "29b0d126",
   "metadata": {},
   "source": [
    "Read the Balance Sheet file and display the resulting dataframe."
   ]
  },
  {
   "cell_type": "code",
   "execution_count": 407,
   "id": "b7ec24e1",
   "metadata": {},
   "outputs": [
    {
     "data": {
      "text/html": [
       "<div>\n",
       "<style scoped>\n",
       "    .dataframe tbody tr th:only-of-type {\n",
       "        vertical-align: middle;\n",
       "    }\n",
       "\n",
       "    .dataframe tbody tr th {\n",
       "        vertical-align: top;\n",
       "    }\n",
       "\n",
       "    .dataframe thead th {\n",
       "        text-align: right;\n",
       "    }\n",
       "</style>\n",
       "<table border=\"1\" class=\"dataframe\">\n",
       "  <thead>\n",
       "    <tr style=\"text-align: right;\">\n",
       "      <th></th>\n",
       "      <th>2021-10-02</th>\n",
       "      <th>2022-10-01</th>\n",
       "    </tr>\n",
       "  </thead>\n",
       "  <tbody>\n",
       "    <tr>\n",
       "      <th>CashAndCashEquivalentsAtCarryingValue</th>\n",
       "      <td>15959000000.00</td>\n",
       "      <td>11615000000.00</td>\n",
       "    </tr>\n",
       "    <tr>\n",
       "      <th>ReceivablesNetCurrent</th>\n",
       "      <td>13367000000.00</td>\n",
       "      <td>12652000000.00</td>\n",
       "    </tr>\n",
       "    <tr>\n",
       "      <th>InventoryNet</th>\n",
       "      <td>1331000000.00</td>\n",
       "      <td>1742000000.00</td>\n",
       "    </tr>\n",
       "    <tr>\n",
       "      <th>LicensedContentCostsAndAdvances</th>\n",
       "      <td>2183000000.00</td>\n",
       "      <td>1890000000.00</td>\n",
       "    </tr>\n",
       "    <tr>\n",
       "      <th>OtherAssetsCurrent</th>\n",
       "      <td>817000000.00</td>\n",
       "      <td>1199000000.00</td>\n",
       "    </tr>\n",
       "    <tr>\n",
       "      <th>AssetsCurrent</th>\n",
       "      <td>33657000000.00</td>\n",
       "      <td>29098000000.00</td>\n",
       "    </tr>\n",
       "    <tr>\n",
       "      <th>ProducedAndLicensedContentCosts</th>\n",
       "      <td>29549000000.00</td>\n",
       "      <td>35777000000.00</td>\n",
       "    </tr>\n",
       "    <tr>\n",
       "      <th>LongTermInvestments</th>\n",
       "      <td>3935000000.00</td>\n",
       "      <td>3218000000.00</td>\n",
       "    </tr>\n",
       "    <tr>\n",
       "      <th>PropertyPlantAndEquipmentGross</th>\n",
       "      <td>64892000000.00</td>\n",
       "      <td>66998000000.00</td>\n",
       "    </tr>\n",
       "    <tr>\n",
       "      <th>AccumulatedDepreciationDepletionAndAmortizationPropertyPlantAndEquipment</th>\n",
       "      <td>37920000000.00</td>\n",
       "      <td>39356000000.00</td>\n",
       "    </tr>\n",
       "    <tr>\n",
       "      <th>ParksResortsAndOtherPropertyAtCostExcludingProjectsAndLand</th>\n",
       "      <td>26972000000.00</td>\n",
       "      <td>27642000000.00</td>\n",
       "    </tr>\n",
       "    <tr>\n",
       "      <th>ConstructionInProgressGross</th>\n",
       "      <td>4521000000.00</td>\n",
       "      <td>4814000000.00</td>\n",
       "    </tr>\n",
       "    <tr>\n",
       "      <th>Land</th>\n",
       "      <td>1131000000.00</td>\n",
       "      <td>1140000000.00</td>\n",
       "    </tr>\n",
       "    <tr>\n",
       "      <th>PropertyPlantAndEquipmentNet</th>\n",
       "      <td>32624000000.00</td>\n",
       "      <td>33596000000.00</td>\n",
       "    </tr>\n",
       "    <tr>\n",
       "      <th>IntangibleAssetsNetExcludingGoodwill</th>\n",
       "      <td>17115000000.00</td>\n",
       "      <td>14837000000.00</td>\n",
       "    </tr>\n",
       "    <tr>\n",
       "      <th>Goodwill</th>\n",
       "      <td>78071000000.00</td>\n",
       "      <td>77897000000.00</td>\n",
       "    </tr>\n",
       "    <tr>\n",
       "      <th>OtherAssetsNoncurrent</th>\n",
       "      <td>8658000000.00</td>\n",
       "      <td>9208000000.00</td>\n",
       "    </tr>\n",
       "    <tr>\n",
       "      <th>Assets</th>\n",
       "      <td>203609000000.00</td>\n",
       "      <td>203631000000.00</td>\n",
       "    </tr>\n",
       "    <tr>\n",
       "      <th>AccountsPayableAndAccruedLiabilitiesCurrent</th>\n",
       "      <td>20894000000.00</td>\n",
       "      <td>20213000000.00</td>\n",
       "    </tr>\n",
       "    <tr>\n",
       "      <th>LongTermDebtCurrent</th>\n",
       "      <td>5866000000.00</td>\n",
       "      <td>3070000000.00</td>\n",
       "    </tr>\n",
       "    <tr>\n",
       "      <th>DeferredRevenueCurrent</th>\n",
       "      <td>4317000000.00</td>\n",
       "      <td>5790000000.00</td>\n",
       "    </tr>\n",
       "    <tr>\n",
       "      <th>LiabilitiesCurrent</th>\n",
       "      <td>31077000000.00</td>\n",
       "      <td>29073000000.00</td>\n",
       "    </tr>\n",
       "    <tr>\n",
       "      <th>LongTermDebtNoncurrent</th>\n",
       "      <td>48540000000.00</td>\n",
       "      <td>45299000000.00</td>\n",
       "    </tr>\n",
       "    <tr>\n",
       "      <th>DeferredTaxAndOtherLiabilitiesNoncurrent</th>\n",
       "      <td>7246000000.00</td>\n",
       "      <td>8363000000.00</td>\n",
       "    </tr>\n",
       "    <tr>\n",
       "      <th>OtherLiabilitiesNoncurrent</th>\n",
       "      <td>14522000000.00</td>\n",
       "      <td>12518000000.00</td>\n",
       "    </tr>\n",
       "    <tr>\n",
       "      <th>CommitmentsAndContingencies</th>\n",
       "      <td>0.00</td>\n",
       "      <td>0.00</td>\n",
       "    </tr>\n",
       "    <tr>\n",
       "      <th>RedeemableNoncontrollingInterestEquityCarryingAmount</th>\n",
       "      <td>9213000000.00</td>\n",
       "      <td>9499000000.00</td>\n",
       "    </tr>\n",
       "    <tr>\n",
       "      <th>PreferredStockValue</th>\n",
       "      <td>0.00</td>\n",
       "      <td>0.00</td>\n",
       "    </tr>\n",
       "    <tr>\n",
       "      <th>CommonStocksIncludingAdditionalPaidInCapital</th>\n",
       "      <td>55471000000.00</td>\n",
       "      <td>56398000000.00</td>\n",
       "    </tr>\n",
       "    <tr>\n",
       "      <th>RetainedEarningsAccumulatedDeficit</th>\n",
       "      <td>40429000000.00</td>\n",
       "      <td>43636000000.00</td>\n",
       "    </tr>\n",
       "    <tr>\n",
       "      <th>AccumulatedOtherComprehensiveIncomeLossNetOfTax</th>\n",
       "      <td>-6440000000.00</td>\n",
       "      <td>-4119000000.00</td>\n",
       "    </tr>\n",
       "    <tr>\n",
       "      <th>TreasuryStockValue</th>\n",
       "      <td>907000000.00</td>\n",
       "      <td>907000000.00</td>\n",
       "    </tr>\n",
       "    <tr>\n",
       "      <th>StockholdersEquity</th>\n",
       "      <td>88553000000.00</td>\n",
       "      <td>95008000000.00</td>\n",
       "    </tr>\n",
       "    <tr>\n",
       "      <th>MinorityInterest</th>\n",
       "      <td>4458000000.00</td>\n",
       "      <td>3871000000.00</td>\n",
       "    </tr>\n",
       "    <tr>\n",
       "      <th>StockholdersEquityIncludingPortionAttributableToNoncontrollingInterest</th>\n",
       "      <td>93011000000.00</td>\n",
       "      <td>98879000000.00</td>\n",
       "    </tr>\n",
       "    <tr>\n",
       "      <th>LiabilitiesAndStockholdersEquity</th>\n",
       "      <td>203609000000.00</td>\n",
       "      <td>203631000000.00</td>\n",
       "    </tr>\n",
       "  </tbody>\n",
       "</table>\n",
       "</div>"
      ],
      "text/plain": [
       "                                                        2021-10-02  \\\n",
       "CashAndCashEquivalentsAtCarryingValue               15959000000.00   \n",
       "ReceivablesNetCurrent                               13367000000.00   \n",
       "InventoryNet                                         1331000000.00   \n",
       "LicensedContentCostsAndAdvances                      2183000000.00   \n",
       "OtherAssetsCurrent                                    817000000.00   \n",
       "AssetsCurrent                                       33657000000.00   \n",
       "ProducedAndLicensedContentCosts                     29549000000.00   \n",
       "LongTermInvestments                                  3935000000.00   \n",
       "PropertyPlantAndEquipmentGross                      64892000000.00   \n",
       "AccumulatedDepreciationDepletionAndAmortization...  37920000000.00   \n",
       "ParksResortsAndOtherPropertyAtCostExcludingProj...  26972000000.00   \n",
       "ConstructionInProgressGross                          4521000000.00   \n",
       "Land                                                 1131000000.00   \n",
       "PropertyPlantAndEquipmentNet                        32624000000.00   \n",
       "IntangibleAssetsNetExcludingGoodwill                17115000000.00   \n",
       "Goodwill                                            78071000000.00   \n",
       "OtherAssetsNoncurrent                                8658000000.00   \n",
       "Assets                                             203609000000.00   \n",
       "AccountsPayableAndAccruedLiabilitiesCurrent         20894000000.00   \n",
       "LongTermDebtCurrent                                  5866000000.00   \n",
       "DeferredRevenueCurrent                               4317000000.00   \n",
       "LiabilitiesCurrent                                  31077000000.00   \n",
       "LongTermDebtNoncurrent                              48540000000.00   \n",
       "DeferredTaxAndOtherLiabilitiesNoncurrent             7246000000.00   \n",
       "OtherLiabilitiesNoncurrent                          14522000000.00   \n",
       "CommitmentsAndContingencies                                   0.00   \n",
       "RedeemableNoncontrollingInterestEquityCarryingA...   9213000000.00   \n",
       "PreferredStockValue                                           0.00   \n",
       "CommonStocksIncludingAdditionalPaidInCapital        55471000000.00   \n",
       "RetainedEarningsAccumulatedDeficit                  40429000000.00   \n",
       "AccumulatedOtherComprehensiveIncomeLossNetOfTax     -6440000000.00   \n",
       "TreasuryStockValue                                    907000000.00   \n",
       "StockholdersEquity                                  88553000000.00   \n",
       "MinorityInterest                                     4458000000.00   \n",
       "StockholdersEquityIncludingPortionAttributableT...  93011000000.00   \n",
       "LiabilitiesAndStockholdersEquity                   203609000000.00   \n",
       "\n",
       "                                                        2022-10-01  \n",
       "CashAndCashEquivalentsAtCarryingValue               11615000000.00  \n",
       "ReceivablesNetCurrent                               12652000000.00  \n",
       "InventoryNet                                         1742000000.00  \n",
       "LicensedContentCostsAndAdvances                      1890000000.00  \n",
       "OtherAssetsCurrent                                   1199000000.00  \n",
       "AssetsCurrent                                       29098000000.00  \n",
       "ProducedAndLicensedContentCosts                     35777000000.00  \n",
       "LongTermInvestments                                  3218000000.00  \n",
       "PropertyPlantAndEquipmentGross                      66998000000.00  \n",
       "AccumulatedDepreciationDepletionAndAmortization...  39356000000.00  \n",
       "ParksResortsAndOtherPropertyAtCostExcludingProj...  27642000000.00  \n",
       "ConstructionInProgressGross                          4814000000.00  \n",
       "Land                                                 1140000000.00  \n",
       "PropertyPlantAndEquipmentNet                        33596000000.00  \n",
       "IntangibleAssetsNetExcludingGoodwill                14837000000.00  \n",
       "Goodwill                                            77897000000.00  \n",
       "OtherAssetsNoncurrent                                9208000000.00  \n",
       "Assets                                             203631000000.00  \n",
       "AccountsPayableAndAccruedLiabilitiesCurrent         20213000000.00  \n",
       "LongTermDebtCurrent                                  3070000000.00  \n",
       "DeferredRevenueCurrent                               5790000000.00  \n",
       "LiabilitiesCurrent                                  29073000000.00  \n",
       "LongTermDebtNoncurrent                              45299000000.00  \n",
       "DeferredTaxAndOtherLiabilitiesNoncurrent             8363000000.00  \n",
       "OtherLiabilitiesNoncurrent                          12518000000.00  \n",
       "CommitmentsAndContingencies                                   0.00  \n",
       "RedeemableNoncontrollingInterestEquityCarryingA...   9499000000.00  \n",
       "PreferredStockValue                                           0.00  \n",
       "CommonStocksIncludingAdditionalPaidInCapital        56398000000.00  \n",
       "RetainedEarningsAccumulatedDeficit                  43636000000.00  \n",
       "AccumulatedOtherComprehensiveIncomeLossNetOfTax     -4119000000.00  \n",
       "TreasuryStockValue                                    907000000.00  \n",
       "StockholdersEquity                                  95008000000.00  \n",
       "MinorityInterest                                     3871000000.00  \n",
       "StockholdersEquityIncludingPortionAttributableT...  98879000000.00  \n",
       "LiabilitiesAndStockholdersEquity                   203631000000.00  "
      ]
     },
     "execution_count": 407,
     "metadata": {},
     "output_type": "execute_result"
    }
   ],
   "source": [
    "balance_sheet = pd.read_csv(path+statement_name_2+company_name+type_file, index_col = 0)\n",
    "balance_sheet"
   ]
  },
  {
   "cell_type": "markdown",
   "id": "c3b5277d",
   "metadata": {},
   "source": [
    "# 2. Calculate ratios"
   ]
  },
  {
   "cell_type": "markdown",
   "id": "3b27ef5e",
   "metadata": {},
   "source": [
    "## 2.1 Current ratio"
   ]
  },
  {
   "cell_type": "markdown",
   "id": "f53bfe9e",
   "metadata": {},
   "source": [
    "Retrieve the value of Current Assets for the year X (e.g., 2021)."
   ]
  },
  {
   "cell_type": "code",
   "execution_count": 408,
   "id": "8b6d2810",
   "metadata": {},
   "outputs": [
    {
     "data": {
      "text/plain": [
       "33657000000.0"
      ]
     },
     "execution_count": 408,
     "metadata": {},
     "output_type": "execute_result"
    }
   ],
   "source": [
    "assets_current_year_X = balance_sheet.loc['AssetsCurrent', balance_sheet.columns[0]]\n",
    "assets_current_year_X"
   ]
  },
  {
   "cell_type": "markdown",
   "id": "75abdd39",
   "metadata": {},
   "source": [
    "Retrieve the value of Current Assets for the year Y (e.g., 2022)."
   ]
  },
  {
   "cell_type": "code",
   "execution_count": 409,
   "id": "58a584da",
   "metadata": {},
   "outputs": [
    {
     "data": {
      "text/plain": [
       "29098000000.0"
      ]
     },
     "execution_count": 409,
     "metadata": {},
     "output_type": "execute_result"
    }
   ],
   "source": [
    "assets_current_year_Y = balance_sheet.loc['AssetsCurrent', balance_sheet.columns[1]]\n",
    "assets_current_year_Y"
   ]
  },
  {
   "cell_type": "markdown",
   "id": "5268748e",
   "metadata": {},
   "source": [
    "Retrieve the value of Current Liabilities for the year X (e.g., 2021)."
   ]
  },
  {
   "cell_type": "code",
   "execution_count": 410,
   "id": "f5a14219",
   "metadata": {},
   "outputs": [
    {
     "data": {
      "text/plain": [
       "31077000000.0"
      ]
     },
     "execution_count": 410,
     "metadata": {},
     "output_type": "execute_result"
    }
   ],
   "source": [
    "liabilities_current_year_X = balance_sheet.loc['LiabilitiesCurrent', balance_sheet.columns[0]]\n",
    "liabilities_current_year_X"
   ]
  },
  {
   "cell_type": "markdown",
   "id": "d798d8ab",
   "metadata": {},
   "source": [
    "Retrieve the value of Current Liabilities for the year Y (e.g., 2022)."
   ]
  },
  {
   "cell_type": "code",
   "execution_count": 411,
   "id": "353cdd69",
   "metadata": {},
   "outputs": [
    {
     "data": {
      "text/plain": [
       "29073000000.0"
      ]
     },
     "execution_count": 411,
     "metadata": {},
     "output_type": "execute_result"
    }
   ],
   "source": [
    "liabilities_current_year_Y = balance_sheet.loc['LiabilitiesCurrent', balance_sheet.columns[1]]\n",
    "liabilities_current_year_Y"
   ]
  },
  {
   "cell_type": "markdown",
   "id": "1641d01f",
   "metadata": {},
   "source": [
    "Calculate Current ratio for year X (e.g., 2021)."
   ]
  },
  {
   "cell_type": "code",
   "execution_count": 412,
   "id": "559ec16e",
   "metadata": {},
   "outputs": [
    {
     "data": {
      "text/plain": [
       "1.08"
      ]
     },
     "execution_count": 412,
     "metadata": {},
     "output_type": "execute_result"
    }
   ],
   "source": [
    "current_ratio_X = round((assets_current_year_X / liabilities_current_year_X), 2)\n",
    "current_ratio_X"
   ]
  },
  {
   "cell_type": "markdown",
   "id": "11df9b6d",
   "metadata": {},
   "source": [
    "Calculate Current ratio for year Y (e.g., 2022)."
   ]
  },
  {
   "cell_type": "code",
   "execution_count": 413,
   "id": "efdbef16",
   "metadata": {},
   "outputs": [
    {
     "data": {
      "text/plain": [
       "1.0"
      ]
     },
     "execution_count": 413,
     "metadata": {},
     "output_type": "execute_result"
    }
   ],
   "source": [
    "current_ratio_Y = round((assets_current_year_Y / liabilities_current_year_Y), 2)\n",
    "current_ratio_Y"
   ]
  },
  {
   "cell_type": "markdown",
   "id": "175cdeb6",
   "metadata": {},
   "source": [
    "## 2.2 Quick ratio"
   ]
  },
  {
   "cell_type": "markdown",
   "id": "ab813e42",
   "metadata": {},
   "source": [
    "If available, retrieve the value of Inventory for year X (e.g., 2021)."
   ]
  },
  {
   "cell_type": "code",
   "execution_count": 414,
   "id": "b3c927bb",
   "metadata": {},
   "outputs": [
    {
     "name": "stdout",
     "output_type": "stream",
     "text": [
      "1331000000.0\n"
     ]
    }
   ],
   "source": [
    "if 'InventoryNet' in balance_sheet.index:\n",
    "    inventory_year_X = balance_sheet.loc['InventoryNet', balance_sheet.columns[0]]\n",
    "    print(inventory_year_X)\n",
    "else:\n",
    "    print(\"InventoryNet not found for the specified year.\")\n",
    "    inventory_year_X = 0.00"
   ]
  },
  {
   "cell_type": "markdown",
   "id": "5270e7c8",
   "metadata": {},
   "source": [
    "If available, retrieve the value of Inventory for year Y (e.g., 2022)."
   ]
  },
  {
   "cell_type": "code",
   "execution_count": 415,
   "id": "c6d2f099",
   "metadata": {},
   "outputs": [
    {
     "name": "stdout",
     "output_type": "stream",
     "text": [
      "1742000000.0\n"
     ]
    }
   ],
   "source": [
    "if 'InventoryNet' in balance_sheet.index:\n",
    "    inventory_year_Y = balance_sheet.loc['InventoryNet', balance_sheet.columns[1]]\n",
    "    print(inventory_year_Y)\n",
    "else:\n",
    "    print(\"InventoryNet not found for the specified year.\")\n",
    "    inventory_year_Y = 0.00"
   ]
  },
  {
   "cell_type": "markdown",
   "id": "782fd08c",
   "metadata": {},
   "source": [
    "If available, retrieve the value of Prepaid Expenses for year X (e.g., 2021)."
   ]
  },
  {
   "cell_type": "code",
   "execution_count": 416,
   "id": "f474c66d",
   "metadata": {},
   "outputs": [
    {
     "name": "stdout",
     "output_type": "stream",
     "text": [
      "PrepaidExpenseAndOtherAssetsCurrent not found for the specified year.\n"
     ]
    }
   ],
   "source": [
    "if 'PrepaidExpenseAndOtherAssetsCurrent' in balance_sheet.index:\n",
    "    prepaid_expenses_year_X = balance_sheet.loc['PrepaidExpenseAndOtherAssetsCurrent', balance_sheet.columns[0]]\n",
    "    print(prepaid_expenses_year_X)\n",
    "else:\n",
    "    print(\"PrepaidExpenseAndOtherAssetsCurrent not found for the specified year.\")\n",
    "    prepaid_expenses_year_X = 0.00"
   ]
  },
  {
   "cell_type": "markdown",
   "id": "1b588083",
   "metadata": {},
   "source": [
    "If available, retrieve the value of Prepaid Expenses for year Y (e.g., 2022)."
   ]
  },
  {
   "cell_type": "code",
   "execution_count": 417,
   "id": "c6b12cad",
   "metadata": {},
   "outputs": [
    {
     "name": "stdout",
     "output_type": "stream",
     "text": [
      "PrepaidExpenseAndOtherAssetsCurrent not found for the specified year.\n"
     ]
    }
   ],
   "source": [
    "if 'PrepaidExpenseAndOtherAssetsCurrent' in balance_sheet.index:\n",
    "    prepaid_expenses_year_Y = balance_sheet.loc['PrepaidExpenseAndOtherAssetsCurrent', balance_sheet.columns[1]]\n",
    "    print(prepaid_expenses_year_Y)\n",
    "else:\n",
    "    print(\"PrepaidExpenseAndOtherAssetsCurrent not found for the specified year.\")\n",
    "    prepaid_expenses_year_Y = 0.00"
   ]
  },
  {
   "cell_type": "markdown",
   "id": "9fe39aab",
   "metadata": {},
   "source": [
    "Calculate Quick ratio for year X (e.g., 2021)."
   ]
  },
  {
   "cell_type": "code",
   "execution_count": 418,
   "id": "df895d7f",
   "metadata": {},
   "outputs": [
    {
     "data": {
      "text/plain": [
       "1.04"
      ]
     },
     "execution_count": 418,
     "metadata": {},
     "output_type": "execute_result"
    }
   ],
   "source": [
    "quick_ratio_X = round((assets_current_year_X - inventory_year_X - prepaid_expenses_year_X) / liabilities_current_year_X, 2)\n",
    "quick_ratio_X"
   ]
  },
  {
   "cell_type": "markdown",
   "id": "17cbbcff",
   "metadata": {},
   "source": [
    "Calculate Quick ratio for year Y (e.g., 2022)."
   ]
  },
  {
   "cell_type": "code",
   "execution_count": 419,
   "id": "1a0e8cf4",
   "metadata": {},
   "outputs": [
    {
     "data": {
      "text/plain": [
       "0.94"
      ]
     },
     "execution_count": 419,
     "metadata": {},
     "output_type": "execute_result"
    }
   ],
   "source": [
    "quick_ratio_Y = round((assets_current_year_Y - inventory_year_Y - prepaid_expenses_year_Y) / liabilities_current_year_Y, 2)\n",
    "quick_ratio_Y"
   ]
  },
  {
   "cell_type": "markdown",
   "id": "0c9eb57b",
   "metadata": {},
   "source": [
    "## 2.3 Cash ratio"
   ]
  },
  {
   "cell_type": "markdown",
   "id": "81fc1682",
   "metadata": {},
   "source": [
    "Retrieve the value of Cash for the year X (e.g., 2021)."
   ]
  },
  {
   "cell_type": "code",
   "execution_count": 420,
   "id": "42f44a18",
   "metadata": {},
   "outputs": [
    {
     "data": {
      "text/plain": [
       "15959000000.0"
      ]
     },
     "execution_count": 420,
     "metadata": {},
     "output_type": "execute_result"
    }
   ],
   "source": [
    "cash_year_X = balance_sheet.loc['CashAndCashEquivalentsAtCarryingValue', balance_sheet.columns[0]]\n",
    "cash_year_X"
   ]
  },
  {
   "cell_type": "markdown",
   "id": "9f86afc2",
   "metadata": {},
   "source": [
    "Retrieve the value of Cash for the year Y (e.g., 2022)."
   ]
  },
  {
   "cell_type": "code",
   "execution_count": 421,
   "id": "805a14c7",
   "metadata": {},
   "outputs": [
    {
     "data": {
      "text/plain": [
       "11615000000.0"
      ]
     },
     "execution_count": 421,
     "metadata": {},
     "output_type": "execute_result"
    }
   ],
   "source": [
    "cash_year_Y = balance_sheet.loc['CashAndCashEquivalentsAtCarryingValue', balance_sheet.columns[1]]\n",
    "cash_year_Y"
   ]
  },
  {
   "cell_type": "markdown",
   "id": "91015f43",
   "metadata": {},
   "source": [
    "Calculate Cash ratio for year X (e.g., 2021)."
   ]
  },
  {
   "cell_type": "code",
   "execution_count": 422,
   "id": "1d5cf2f7",
   "metadata": {},
   "outputs": [
    {
     "data": {
      "text/plain": [
       "0.51"
      ]
     },
     "execution_count": 422,
     "metadata": {},
     "output_type": "execute_result"
    }
   ],
   "source": [
    "cash_ratio_X = round(cash_year_X / liabilities_current_year_X, 2)\n",
    "cash_ratio_X"
   ]
  },
  {
   "cell_type": "markdown",
   "id": "15392758",
   "metadata": {},
   "source": [
    "Calculate Cash ratio for year Y (e.g., 2022)."
   ]
  },
  {
   "cell_type": "code",
   "execution_count": 423,
   "id": "6b856405",
   "metadata": {},
   "outputs": [
    {
     "data": {
      "text/plain": [
       "0.4"
      ]
     },
     "execution_count": 423,
     "metadata": {},
     "output_type": "execute_result"
    }
   ],
   "source": [
    "cash_ratio_Y = round(cash_year_Y / liabilities_current_year_Y, 2)\n",
    "cash_ratio_Y"
   ]
  },
  {
   "cell_type": "markdown",
   "id": "d113f629",
   "metadata": {},
   "source": [
    "# 3. Save the calculated ratios in a dataframe and store them in a CSV file"
   ]
  },
  {
   "cell_type": "markdown",
   "id": "1a512c81",
   "metadata": {},
   "source": [
    "Create a dictionary with the calculated ratios. Convert the dictionary into a dataframe. Display the resulting dataframe."
   ]
  },
  {
   "cell_type": "code",
   "execution_count": 424,
   "id": "83d57232",
   "metadata": {},
   "outputs": [
    {
     "data": {
      "text/html": [
       "<div>\n",
       "<style scoped>\n",
       "    .dataframe tbody tr th:only-of-type {\n",
       "        vertical-align: middle;\n",
       "    }\n",
       "\n",
       "    .dataframe tbody tr th {\n",
       "        vertical-align: top;\n",
       "    }\n",
       "\n",
       "    .dataframe thead th {\n",
       "        text-align: right;\n",
       "    }\n",
       "</style>\n",
       "<table border=\"1\" class=\"dataframe\">\n",
       "  <thead>\n",
       "    <tr style=\"text-align: right;\">\n",
       "      <th></th>\n",
       "      <th>2021</th>\n",
       "      <th>2022</th>\n",
       "    </tr>\n",
       "  </thead>\n",
       "  <tbody>\n",
       "    <tr>\n",
       "      <th>Current_Ratio_WaltDisney</th>\n",
       "      <td>1.08</td>\n",
       "      <td>1.00</td>\n",
       "    </tr>\n",
       "    <tr>\n",
       "      <th>Quick_Ratio_WaltDisney</th>\n",
       "      <td>1.04</td>\n",
       "      <td>0.94</td>\n",
       "    </tr>\n",
       "    <tr>\n",
       "      <th>Cash_Ratio_WaltDisney</th>\n",
       "      <td>0.51</td>\n",
       "      <td>0.40</td>\n",
       "    </tr>\n",
       "  </tbody>\n",
       "</table>\n",
       "</div>"
      ],
      "text/plain": [
       "                          2021  2022\n",
       "Current_Ratio_WaltDisney  1.08  1.00\n",
       "Quick_Ratio_WaltDisney    1.04  0.94\n",
       "Cash_Ratio_WaltDisney     0.51  0.40"
      ]
     },
     "execution_count": 424,
     "metadata": {},
     "output_type": "execute_result"
    }
   ],
   "source": [
    "year_X = '2021'\n",
    "year_Y = '2022'\n",
    "\n",
    "data = {\n",
    "    year_X: [current_ratio_X, quick_ratio_X, cash_ratio_X],\n",
    "    year_Y: [current_ratio_Y, quick_ratio_Y, cash_ratio_Y]\n",
    "}\n",
    "\n",
    "ratios = pd.DataFrame(data, index=[('Current_Ratio_'+company_name), ('Quick_Ratio_'+company_name), ('Cash_Ratio_'+company_name)])\n",
    "\n",
    "ratios"
   ]
  },
  {
   "cell_type": "markdown",
   "id": "858b23f1",
   "metadata": {},
   "source": [
    "Specify the path and name of the CSV file. Save the dataframe to the CSV file."
   ]
  },
  {
   "cell_type": "code",
   "execution_count": 425,
   "id": "cd94b672",
   "metadata": {},
   "outputs": [],
   "source": [
    "path = './Ratios/'\n",
    "file = 'ratios_'\n",
    "type_file = '.csv'\n",
    "\n",
    "ratios.to_csv(path+file+company_name+type_file)"
   ]
  }
 ],
 "metadata": {
  "kernelspec": {
   "display_name": "Python 3 (ipykernel)",
   "language": "python",
   "name": "python3"
  },
  "language_info": {
   "codemirror_mode": {
    "name": "ipython",
    "version": 3
   },
   "file_extension": ".py",
   "mimetype": "text/x-python",
   "name": "python",
   "nbconvert_exporter": "python",
   "pygments_lexer": "ipython3",
   "version": "3.11.5"
  }
 },
 "nbformat": 4,
 "nbformat_minor": 5
}
